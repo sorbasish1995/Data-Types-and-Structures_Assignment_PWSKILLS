{
 "cells": [
  {
   "cell_type": "markdown",
   "id": "e1d33973-ad6a-4fc9-81de-45c91b3453bf",
   "metadata": {},
   "source": [
    "# **Theoretical Questions:**"
   ]
  },
  {
   "cell_type": "markdown",
   "id": "45685de7-cb75-48b2-9f2d-e6ef180ceedc",
   "metadata": {},
   "source": [
    "1. What are data structures, and why are they important?\n",
    "   - Data structures are specialized formats used to organize, store, and manage data efficiently in a programming        language like Python. They are important because they allow us to access and manipulate data in an organized         way, which improves the performance and readability of our code. By using appropriate data structures, we can        process data more effectively, extract meaningful insights, and solve complex problems more efficiently."
   ]
  },
  {
   "cell_type": "markdown",
   "id": "ca463f66-8d58-4ec3-a019-6ff3fc04e306",
   "metadata": {},
   "source": [
    "2. Explain the difference between mutable and immutable data types with examples?\n",
    "   - The main difference between mutable and immutable data types are given below.\n",
    "   - In mutable data types we can do operations like change,modify,update,add,remove etc.\n",
    "   - In immutable data types above operations are not possible. Once created cannot be changed. Examples\n",
    "     are given below."
   ]
  },
  {
   "cell_type": "code",
   "execution_count": 1,
   "id": "c4e56eae-aae7-406a-9fc0-3ce76c24f76a",
   "metadata": {},
   "outputs": [
    {
     "data": {
      "text/plain": [
       "[1, 2, 3, 9, 5]"
      ]
     },
     "execution_count": 1,
     "metadata": {},
     "output_type": "execute_result"
    }
   ],
   "source": [
    "# Ex: of mutable objects:\n",
    "\n",
    "number_list = [1,2,3,4,5]\n",
    "number_list[3]= 9 # here we chage the number 4 by accessing the indexing of the data type.\n",
    "number_list"
   ]
  },
  {
   "cell_type": "code",
   "execution_count": 2,
   "id": "0c26a30a-7fc9-46e5-b3f0-c938778696c0",
   "metadata": {},
   "outputs": [
    {
     "ename": "TypeError",
     "evalue": "'tuple' object does not support item assignment",
     "output_type": "error",
     "traceback": [
      "\u001b[31m---------------------------------------------------------------------------\u001b[39m",
      "\u001b[31mTypeError\u001b[39m                                 Traceback (most recent call last)",
      "\u001b[36mCell\u001b[39m\u001b[36m \u001b[39m\u001b[32mIn[2]\u001b[39m\u001b[32m, line 4\u001b[39m\n\u001b[32m      1\u001b[39m \u001b[38;5;66;03m# Ex: of immutable objects:\u001b[39;00m\n\u001b[32m      3\u001b[39m id_num = (\u001b[32m121\u001b[39m,\u001b[32m221\u001b[39m)\n\u001b[32m----> \u001b[39m\u001b[32m4\u001b[39m \u001b[43mid_num\u001b[49m\u001b[43m[\u001b[49m\u001b[32;43m1\u001b[39;49m\u001b[43m]\u001b[49m = \u001b[32m321\u001b[39m\n\u001b[32m      5\u001b[39m id_num\n",
      "\u001b[31mTypeError\u001b[39m: 'tuple' object does not support item assignment"
     ]
    }
   ],
   "source": [
    "# Ex: of immutable objects:\n",
    "\n",
    "id_num = (121,221)\n",
    "id_num[1] = 321 # we tried to do the same and we get an error.\n",
    "id_num"
   ]
  },
  {
   "cell_type": "markdown",
   "id": "a87d81a2-da54-46d9-82b5-3bba6493f2b1",
   "metadata": {},
   "source": [
    "3. What are the main differences between lists and tuples in Python?\n",
    "   - So from the above mentioned examples we can understand the difference clearly.\n",
    "   - The first example shows how we can do any operation in a mutable data set and we used a List for that example.\n",
    "   - In the next example we used a Tuple to show its immutablity.\n",
    "   - Both of them has their own purpose. When we will work with dynamic data where all sorts of modifications will be required than we will consider List and when we will work with a data which we do not want chage it than we will use Tuple for that purpose."
   ]
  },
  {
   "cell_type": "markdown",
   "id": "9ffe26cd-86d3-46df-80d5-4c666858569c",
   "metadata": {},
   "source": [
    "4. Describe how dictionaries store data?\n",
    "   -Dictionaries store data using a unique structure called key-value pairs. Each piece of data is stored as a pair where the key is used to identify the value. For example, if we want to store the capital of India, it would look like this in a dictionary:"
   ]
  },
  {
   "cell_type": "code",
   "execution_count": 7,
   "id": "66f3f72e-2a90-42d2-8472-9d59628a0439",
   "metadata": {},
   "outputs": [
    {
     "name": "stdout",
     "output_type": "stream",
     "text": [
      "Delhi\n"
     ]
    }
   ],
   "source": [
    "print({\"India\": \"Delhi\"}[\"India\"])  # Output: Delhi"
   ]
  },
  {
   "cell_type": "markdown",
   "id": "02f45fa2-ff2c-42a4-b48d-79918922f3ea",
   "metadata": {},
   "source": [
    "This allows us to quickly access data by referencing its key. In this case, using the key \"India\" will return the value \"Delhi\". This makes dictionaries an efficient and organized way to manage data in Python."
   ]
  },
  {
   "cell_type": "markdown",
   "id": "e724ccda-a6ef-4d53-9440-9950d9fa2b3b",
   "metadata": {},
   "source": [
    "5. Why might you use a set instead of a list in Python?\n",
    "   - There are several reasons why we might choose a set over a list in Python:\n",
    "\n",
    "No Duplicates Allowed: Sets automatically eliminate duplicate values, ensuring that all elements are unique.\n",
    "\n",
    "Faster Membership Testing: Sets are optimized for checking whether an item exists, making operations like item in set faster than in lists.\n",
    "\n",
    "Set Operations: Sets support built-in operations like union, intersection, and difference, which are useful for comparing and combining datasets.\n",
    "\n",
    "No Need for Order: If your use case doesn't require the data to be in a specific order, sets can be more efficient than lists."
   ]
  },
  {
   "cell_type": "markdown",
   "id": "026b98db-1263-4151-8d49-a9b07b42c2e7",
   "metadata": {},
   "source": [
    "6. What is a string in Python, and how is it different from a list?\n",
    "   - String is a data type in python which consists of character values. It can be stored in a variable. After get stored in a variable it actually points towards a memeory location in python. Below is an example of a string.We can only define strings by usinh a single or double quotes."
   ]
  },
  {
   "cell_type": "code",
   "execution_count": 8,
   "id": "08a228e5-5e69-4439-a917-7a4cda22e409",
   "metadata": {},
   "outputs": [],
   "source": [
    " name = \"Sorbasish\""
   ]
  },
  {
   "cell_type": "markdown",
   "id": "f3514aec-3b5a-45b3-bcef-b89cc71cc81f",
   "metadata": {},
   "source": [
    "Now we can also distinguish between a string and a list. List is a data structure. In List we can store multiple kinds of data. For example "
   ]
  },
  {
   "cell_type": "code",
   "execution_count": 9,
   "id": "49321fd3-6dcc-4e1d-8955-d1a79ba91ee3",
   "metadata": {},
   "outputs": [],
   "source": [
    "shoping = [\"bags\",1,True,2+5j,1.3]"
   ]
  },
  {
   "cell_type": "markdown",
   "id": "6ae6e39b-0496-448c-b753-cfeb6b88fd1c",
   "metadata": {},
   "source": [
    "from the above example we can understand the clear difference. Lists can be modified but strings cannot be modified."
   ]
  },
  {
   "cell_type": "markdown",
   "id": "fde7851e-c672-44e2-a01c-ce59d97dcb75",
   "metadata": {},
   "source": [
    "7. How do tuples ensure data integrity in Python?\n",
    "   - As we have alredy discussed earlier that once we create a Tuple, the data inside of it could not be changed or modified. Lets check with another example."
   ]
  },
  {
   "cell_type": "code",
   "execution_count": 12,
   "id": "39943101-981a-4692-8aae-8617af3b60b4",
   "metadata": {},
   "outputs": [
    {
     "ename": "TypeError",
     "evalue": "'tuple' object does not support item assignment",
     "output_type": "error",
     "traceback": [
      "\u001b[31m---------------------------------------------------------------------------\u001b[39m",
      "\u001b[31mTypeError\u001b[39m                                 Traceback (most recent call last)",
      "\u001b[36mCell\u001b[39m\u001b[36m \u001b[39m\u001b[32mIn[12]\u001b[39m\u001b[32m, line 3\u001b[39m\n\u001b[32m      1\u001b[39m shoping = [\u001b[33m\"\u001b[39m\u001b[33mbags\u001b[39m\u001b[33m\"\u001b[39m,\u001b[32m1\u001b[39m,\u001b[38;5;28;01mTrue\u001b[39;00m,\u001b[32m2\u001b[39m+\u001b[32m5\u001b[39mj,\u001b[32m1.3\u001b[39m]\n\u001b[32m      2\u001b[39m shoping = \u001b[38;5;28mtuple\u001b[39m(shoping)\n\u001b[32m----> \u001b[39m\u001b[32m3\u001b[39m \u001b[43mshoping\u001b[49m\u001b[43m[\u001b[49m\u001b[32;43m0\u001b[39;49m\u001b[43m]\u001b[49m=\u001b[33m\"\u001b[39m\u001b[33mbooks\u001b[39m\u001b[33m\"\u001b[39m\n",
      "\u001b[31mTypeError\u001b[39m: 'tuple' object does not support item assignment"
     ]
    }
   ],
   "source": [
    "shoping = [\"bags\",1,True,2+5j,1.3]\n",
    "shoping = tuple(shoping)\n",
    "shoping[0]=\"books\" # We tried but failed to do so."
   ]
  },
  {
   "cell_type": "markdown",
   "id": "756266aa-9718-4865-ac7e-88a47d408836",
   "metadata": {},
   "source": [
    "So, from the above given example we can now secure our data once we enter it inside of a tuple. Nobody can manipulate the data or if they want they have to deal with a new one which can be identified aganist the original data."
   ]
  },
  {
   "cell_type": "markdown",
   "id": "622cc1a7-6a37-4a42-9c53-15847db98c6a",
   "metadata": {},
   "source": [
    "8. What is a hash table, and how does it relate to dictionaries in Python?\n",
    "   - A hash table is a data structure that stores data in key-value pairs and uses a hash function to compute an index into an array where the value can be found or stored.\n",
    "\n",
    "In Python, the built-in dictionary (dict) is implemented using a hash table behind the scenes."
   ]
  },
  {
   "cell_type": "code",
   "execution_count": 13,
   "id": "08d97444-2ee1-4588-ac64-90261223d3eb",
   "metadata": {},
   "outputs": [],
   "source": [
    "my_dict = {\"apple\": 5, \"banana\": 3}\n"
   ]
  },
  {
   "cell_type": "markdown",
   "id": "4aaa8100-a6aa-44aa-b8ee-10345fd3152b",
   "metadata": {},
   "source": [
    "Python takes each key \"apple\" and passes it through a hash function to determine where to store the value 5 in memory.\n",
    "\n",
    "This allows very fast access to values using keys"
   ]
  },
  {
   "cell_type": "markdown",
   "id": "21971af6-fac6-49a3-802f-ee9e745fd444",
   "metadata": {},
   "source": [
    "9. Can lists contain different data types in Python?\n",
    "    - Yes, a list can have multiple data types at a same time. Example given below."
   ]
  },
  {
   "cell_type": "code",
   "execution_count": 15,
   "id": "6a0af91d-5e5b-472e-b27c-389abe6d36e4",
   "metadata": {},
   "outputs": [
    {
     "name": "stdout",
     "output_type": "stream",
     "text": [
      "['bags', 1, True, (2+5j), 1.3]\n"
     ]
    }
   ],
   "source": [
    "shoping1 = [\"bags\",1,True,2+5j,1.3]\n",
    "print(shoping1)"
   ]
  },
  {
   "cell_type": "markdown",
   "id": "8a45d581-f0ba-4f0b-bed5-567e231a8aaf",
   "metadata": {},
   "source": [
    "Here we have a string,int,boolean,complex,float. all together in a List."
   ]
  },
  {
   "cell_type": "markdown",
   "id": "b783393e-5f77-402c-9b46-409ac3de398c",
   "metadata": {},
   "source": [
    "10. Explain why strings are immutable in Python?\n",
    "    - Strings are immutable in Python because once a string is created, its contents cannot be changed. Any action that seems to modify a string actually creates a new string. This helps make strings safer, more efficient, and allows them to be used as keys in dictionaries."
   ]
  },
  {
   "cell_type": "code",
   "execution_count": 16,
   "id": "da2a9e99-6af8-42af-9998-c47eb4747de7",
   "metadata": {},
   "outputs": [
    {
     "ename": "TypeError",
     "evalue": "'str' object does not support item assignment",
     "output_type": "error",
     "traceback": [
      "\u001b[31m---------------------------------------------------------------------------\u001b[39m",
      "\u001b[31mTypeError\u001b[39m                                 Traceback (most recent call last)",
      "\u001b[36mCell\u001b[39m\u001b[36m \u001b[39m\u001b[32mIn[16]\u001b[39m\u001b[32m, line 2\u001b[39m\n\u001b[32m      1\u001b[39m name = \u001b[33m\"\u001b[39m\u001b[33mRam\u001b[39m\u001b[33m\"\u001b[39m\n\u001b[32m----> \u001b[39m\u001b[32m2\u001b[39m \u001b[43mname\u001b[49m\u001b[43m[\u001b[49m\u001b[32;43m0\u001b[39;49m\u001b[43m]\u001b[49m = \u001b[33m\"\u001b[39m\u001b[33mS\u001b[39m\u001b[33m\"\u001b[39m\n",
      "\u001b[31mTypeError\u001b[39m: 'str' object does not support item assignment"
     ]
    }
   ],
   "source": [
    "name = \"Ram\"\n",
    "name[0] = \"S\"\n"
   ]
  },
  {
   "cell_type": "code",
   "execution_count": 18,
   "id": "df4d59b8-182a-4299-ad9b-ecc7740fa77e",
   "metadata": {},
   "outputs": [
    {
     "data": {
      "text/plain": [
       "'Sam'"
      ]
     },
     "execution_count": 18,
     "metadata": {},
     "output_type": "execute_result"
    }
   ],
   "source": [
    "name = \"Ram\"\n",
    "name = \"Sam\"   # This creates a new string and assigns it to the variable\n",
    "name"
   ]
  },
  {
   "cell_type": "markdown",
   "id": "b3c85387-4918-4349-96c4-68b715e3d1a7",
   "metadata": {},
   "source": [
    "11. What advantages do dictionaries offer over lists for certain tasks?\n",
    "    - The main advantage dictionaries gives us over the lists is that the data visualization and manipulation.\n",
    "    - we can store the data in a key value pair which will help us to identify and manage data with accuracy.\n",
    "    - The data format in dictionnary will help us to relate within the data and we will able to use it in a more precise manner. dictionaries are better for quick access of data when it is required."
   ]
  },
  {
   "cell_type": "markdown",
   "id": "cb0e05e0-78bf-416e-9981-c695b058a45b",
   "metadata": {},
   "source": [
    "12. Describe a scenario where using a tuple would be preferable over a list?\n",
    "    - Lets understand the scenario with the help of an example.\n",
    "    - Suppose we wanted to deal with some data related to a school where we have create a List of students in a class. Here we will prefer a list. Let see with an example."
   ]
  },
  {
   "cell_type": "code",
   "execution_count": 19,
   "id": "03fe7418-8d33-44dd-b387-f2130469cac5",
   "metadata": {},
   "outputs": [],
   "source": [
    "Math_calss_student_list = [\"sorbasish\",\"Tuhinmoy\",\"Arijit\",\"Dibyo\",\"Ankit\"]\n"
   ]
  },
  {
   "cell_type": "markdown",
   "id": "21b947f5-eecd-4aa0-a8b6-fc939f89fa25",
   "metadata": {},
   "source": [
    "OK now we have got another task that is we have to create the roll numbers for each student. Here we want each and every student should have unique roll numbers so that they could be identified at any time even if they can have similar names. So in this case we will going to use a Tuple so that after creating the roll numbers for each students could not be changed in any instance."
   ]
  },
  {
   "cell_type": "code",
   "execution_count": 27,
   "id": "b3628d16-222e-4b62-a42f-335ff51d9970",
   "metadata": {},
   "outputs": [],
   "source": [
    "# Now we got an information that 2 new students are going to join us from today.\n",
    "# we need to update the students list"
   ]
  },
  {
   "cell_type": "code",
   "execution_count": 28,
   "id": "9f1d5b94-5c41-45e9-8801-fef2e9d8bac8",
   "metadata": {},
   "outputs": [],
   "source": [
    "Math_calss_student_list = [\"sorbasish\",\"Tuhinmoy\",\"Arijit\",\"Dibyo\",\"Ankit\"]"
   ]
  },
  {
   "cell_type": "code",
   "execution_count": 31,
   "id": "7b12a741-74e9-4ac7-bfe1-b246842c154f",
   "metadata": {},
   "outputs": [],
   "source": [
    "Math_calss_student_list.extend([\"Souvik\",\"Debtanu\"])"
   ]
  },
  {
   "cell_type": "code",
   "execution_count": 32,
   "id": "7558d780-0db0-4824-892a-004de20995e9",
   "metadata": {},
   "outputs": [
    {
     "data": {
      "text/plain": [
       "['sorbasish', 'Tuhinmoy', 'Arijit', 'Dibyo', 'Ankit', 'Souvik', 'Debtanu']"
      ]
     },
     "execution_count": 32,
     "metadata": {},
     "output_type": "execute_result"
    }
   ],
   "source": [
    "Math_calss_student_list"
   ]
  },
  {
   "cell_type": "code",
   "execution_count": 33,
   "id": "8b07beaa-4f73-4b2c-8553-e5f1891e7c2e",
   "metadata": {},
   "outputs": [],
   "source": [
    "Roll_numbers = (1,2,3,4,5,6,7)"
   ]
  },
  {
   "cell_type": "code",
   "execution_count": 34,
   "id": "5e250afb-6afa-42ce-91a9-b0dedd91c169",
   "metadata": {},
   "outputs": [],
   "source": [
    "# Now someoene tried to chage any one of the roll number and they will get errors."
   ]
  },
  {
   "cell_type": "code",
   "execution_count": 35,
   "id": "7c89d9bd-73e0-484d-8431-c1d74987aeba",
   "metadata": {},
   "outputs": [
    {
     "ename": "TypeError",
     "evalue": "'tuple' object does not support item assignment",
     "output_type": "error",
     "traceback": [
      "\u001b[31m---------------------------------------------------------------------------\u001b[39m",
      "\u001b[31mTypeError\u001b[39m                                 Traceback (most recent call last)",
      "\u001b[36mCell\u001b[39m\u001b[36m \u001b[39m\u001b[32mIn[35]\u001b[39m\u001b[32m, line 1\u001b[39m\n\u001b[32m----> \u001b[39m\u001b[32m1\u001b[39m \u001b[43mRoll_numbers\u001b[49m\u001b[43m[\u001b[49m\u001b[32;43m1\u001b[39;49m\u001b[43m]\u001b[49m = \u001b[32m9\u001b[39m\n",
      "\u001b[31mTypeError\u001b[39m: 'tuple' object does not support item assignment"
     ]
    }
   ],
   "source": [
    "Roll_numbers[1] = 9"
   ]
  },
  {
   "cell_type": "markdown",
   "id": "72d6feb6-e06d-40e1-8e8d-fa584e86fc12",
   "metadata": {},
   "source": [
    "So, from the above given examples we are able to understand on what purpose what data structure we need to use to get the results."
   ]
  },
  {
   "cell_type": "markdown",
   "id": "b2b3a078-3c06-469d-ae4d-1d173efd25f4",
   "metadata": {},
   "source": [
    "13. How do sets handle duplicate values in Python?\n",
    "    - Sets in Python do not allow duplicate values. If you try to add a duplicate, it will be ignored automatically.\n",
    "    - When we add elements to a set in Python, each value is passed through a hash function, which gives it a unique hash value. This hash is used to check whether the value already exists in the set."
   ]
  },
  {
   "cell_type": "code",
   "execution_count": 38,
   "id": "2080de3b-adb6-4c6d-ad6b-e7f542fbfc5d",
   "metadata": {},
   "outputs": [
    {
     "name": "stdout",
     "output_type": "stream",
     "text": [
      "{1, 2, 3}\n"
     ]
    }
   ],
   "source": [
    "# Ex: of set\n",
    "\n",
    "my_set = {1, 2, 2, 3}\n",
    "print(my_set)"
   ]
  },
  {
   "cell_type": "markdown",
   "id": "32f68d11-504c-4250-b011-3ba51325ffe3",
   "metadata": {},
   "source": [
    "14. How does the “in” keyword work differently for lists and dictionaries?\n",
    "    - When we use in as a membership operator to find an element inside of a list it actually access the index of each and every element of that list and if it gets a match then it returns value as true otherwise false.\n",
    "    - But when in is used for dictionary it uses the key to find the requested element inside the dictionary. The keys are then used as an indexing element. This is how in works for lists and dictionaries.\n",
    "    - Through looping \"in\" finds the element in the list but for dictionary it checks the key is present or not."
   ]
  },
  {
   "cell_type": "markdown",
   "id": "a71908d0-fca7-4ae2-9cfb-127327c64f67",
   "metadata": {},
   "source": [
    "15. Can you modify the elements of a tuple? Explain why or why not?\n",
    "    - No, you cannot modify the elements of a tuple.\n",
    "Tuples in Python are immutable, meaning their elements cannot be changed, added, or removed once the tuple is created.\n",
    "This makes tuples more memory-efficient and allows them to be used as dictionary keys or in sets.\n",
    "\n",
    "If a tuple contains a mutable element (like a list), that inner object can be modified, but the tuple structure itself stays unchanged."
   ]
  },
  {
   "cell_type": "code",
   "execution_count": 39,
   "id": "f0dd7559-cb58-43cd-bb80-90d8754bdd8d",
   "metadata": {},
   "outputs": [
    {
     "name": "stdout",
     "output_type": "stream",
     "text": [
      "(1, [99, 3], 4)\n"
     ]
    }
   ],
   "source": [
    "t = (1, [2, 3], 4)\n",
    "t[1][0] = 99  # Allowed (modifying list inside tuple)\n",
    "print(t)  # (1, [99, 3], 4)"
   ]
  },
  {
   "cell_type": "markdown",
   "id": "20da0c4b-ef90-4f2f-8f75-0f263c365b2f",
   "metadata": {},
   "source": [
    "16. What is a nested dictionary, and give an example of its use case?\n",
    "    - Nested dctionary is nothing but a dictionary inside of a dictionary. Let say we have some student details and we are having only one student who has his own roll number alloted yet. Now how we are going to showcase this inside a single dictionary. Lets understand this with an example."
   ]
  },
  {
   "cell_type": "code",
   "execution_count": 42,
   "id": "ca983de6-1681-4247-afc7-83aa4dae3778",
   "metadata": {},
   "outputs": [],
   "source": [
    "students = {\n",
    "    \"Roll_Null\": {\n",
    "        \"name\": \"Rohan\",\n",
    "        \"age\": 16,\n",
    "        \"grade\": \"10th\"\n",
    "    },\n",
    "\n",
    "    \"Roll_201\": {\n",
    "    \"name\": \"Rahul\",\n",
    "        \"age\": 17,\n",
    "        \"grade\": \"11th\"\n",
    "    }\n",
    "}\n"
   ]
  },
  {
   "cell_type": "markdown",
   "id": "9e85bce7-a872-4399-ace3-7df34b9d8774",
   "metadata": {},
   "source": [
    "Now from the above example we can get the details of that student who has hot get his roll number yet and we can assign him a roll number anytime we want."
   ]
  },
  {
   "cell_type": "markdown",
   "id": "2eafdda4-5209-46ea-aaf4-b2a13e331e6f",
   "metadata": {},
   "source": [
    "17. Describe the time complexity of accessing elements in a dictionary?\n",
    "    - Accessing elements in a dictionary using a key is done in constant time, which means the time complexity is constant time. This is possible because Python dictionaries use a hash table under the hood. When you access a value with a key, Python\n",
    "\n",
    "Calculates the hash of the key.\n",
    "\n",
    "Uses that hash to directly locate the value in memory.\n",
    "\n",
    "No matter how big the dictionary is — whether it has 10 items or 10,000 — accessing an element by key takes the same amount of time on average.\n",
    "\n",
    "\n",
    "    "
   ]
  },
  {
   "cell_type": "markdown",
   "id": "5f1dea71-4bda-4766-9e86-3bd7b1d9ef34",
   "metadata": {},
   "source": [
    "18. In what situations are lists preferred over dictionaries?\n",
    "    - Lists are preferred over dictionaries when:\n",
    "    - Order matters – Lists maintain the insertion order and allow you to access elements by position/index.\n",
    "    - Data is simple and sequential – If you're storing a sequence of items like numbers, names, or steps in a             process.\n",
    "\n",
    "      No need for key-value pairs – When there's no meaningful “name” or “label” for each item, just a collection of       values.\n",
    "\n",
    "      You need duplicates – Lists allow duplicate values, while dictionaries do not allow duplicate keys.\n",
    "\n",
    "      You want to sort or slice easily – Lists have built-in methods like .sort() and support slicing like                 my_list[1:4]."
   ]
  },
  {
   "cell_type": "markdown",
   "id": "0eb99beb-4d9b-4e41-90d7-1b698d3f042b",
   "metadata": {},
   "source": [
    "19. Why are dictionaries considered unordered, and how does that affect data retrieval?\n",
    "    - Dictionaries are considered unordered because they do not use a fixed position or index for storing data like lists do. Instead, dictionaries store data using unique keys, and each key maps directly to a value.\n",
    "\n",
    "Even though Python 3.7+ maintains the insertion order, the concept of ordering is not important when retrieving data — because access is done by key, not by position.\n",
    "\n",
    "we cannot use indexes (like dict[0]) to get data.\n",
    "\n",
    "we must use the correct key to retrieve its value.\n",
    "\n",
    "The internal arrangement of items does not matter when searching for a key."
   ]
  },
  {
   "cell_type": "code",
   "execution_count": 43,
   "id": "f700a58b-a15c-419a-a562-1b62792b9b09",
   "metadata": {},
   "outputs": [
    {
     "name": "stdout",
     "output_type": "stream",
     "text": [
      "Ankita\n"
     ]
    },
    {
     "ename": "KeyError",
     "evalue": "0",
     "output_type": "error",
     "traceback": [
      "\u001b[31m---------------------------------------------------------------------------\u001b[39m",
      "\u001b[31mKeyError\u001b[39m                                  Traceback (most recent call last)",
      "\u001b[36mCell\u001b[39m\u001b[36m \u001b[39m\u001b[32mIn[43]\u001b[39m\u001b[32m, line 8\u001b[39m\n\u001b[32m      1\u001b[39m student = {\n\u001b[32m      2\u001b[39m     \u001b[33m\"\u001b[39m\u001b[33mname\u001b[39m\u001b[33m\"\u001b[39m: \u001b[33m\"\u001b[39m\u001b[33mAnkita\u001b[39m\u001b[33m\"\u001b[39m,\n\u001b[32m      3\u001b[39m     \u001b[33m\"\u001b[39m\u001b[33mage\u001b[39m\u001b[33m\"\u001b[39m: \u001b[32m21\u001b[39m,\n\u001b[32m      4\u001b[39m     \u001b[33m\"\u001b[39m\u001b[33mgrade\u001b[39m\u001b[33m\"\u001b[39m: \u001b[33m\"\u001b[39m\u001b[33mA\u001b[39m\u001b[33m\"\u001b[39m\n\u001b[32m      5\u001b[39m }\n\u001b[32m      7\u001b[39m \u001b[38;5;28mprint\u001b[39m(student[\u001b[33m\"\u001b[39m\u001b[33mname\u001b[39m\u001b[33m\"\u001b[39m])  \u001b[38;5;66;03m# Output: Ankita\u001b[39;00m\n\u001b[32m----> \u001b[39m\u001b[32m8\u001b[39m \u001b[38;5;28mprint\u001b[39m(\u001b[43mstudent\u001b[49m\u001b[43m[\u001b[49m\u001b[32;43m0\u001b[39;49m\u001b[43m]\u001b[49m)       \u001b[38;5;66;03m# ❌ Error: key not found\u001b[39;00m\n",
      "\u001b[31mKeyError\u001b[39m: 0"
     ]
    }
   ],
   "source": [
    "student = {\n",
    "    \"name\": \"Ankita\",\n",
    "    \"age\": 21,\n",
    "    \"grade\": \"A\"\n",
    "}\n",
    "\n",
    "print(student[\"name\"])  \n",
    "print(student[0])       \n"
   ]
  },
  {
   "cell_type": "markdown",
   "id": "cba72749-6e0a-4f4d-8168-77988cb610aa",
   "metadata": {},
   "source": [
    "20. Explain the difference between a list and a dictionary in terms of data retrieval.\n",
    "    - The main difference between a list and a dictionary in terms of data retrieval is how we\n",
    "      access the elements:"
   ]
  },
  {
   "cell_type": "markdown",
   "id": "32c0a64c-41e9-4aa8-9a3d-6e8c6fc728e7",
   "metadata": {},
   "source": [
    "List: Access by Index\n",
    "Lists store elements in a specific order.\n",
    "\n",
    "we retrieve data using numeric indexing (starting from 0). Lets understand this with an example."
   ]
  },
  {
   "cell_type": "code",
   "execution_count": 44,
   "id": "1c659705-611c-411d-96c0-855a819600db",
   "metadata": {},
   "outputs": [
    {
     "name": "stdout",
     "output_type": "stream",
     "text": [
      "banana\n"
     ]
    }
   ],
   "source": [
    "fruits = [\"apple\", \"banana\", \"mango\"]\n",
    "print(fruits[1])  # Output: banana"
   ]
  },
  {
   "cell_type": "markdown",
   "id": "0039676e-e8a1-45c6-864a-2e6d479dc3fb",
   "metadata": {},
   "source": [
    "Dictionary: Access by Key\n",
    "Dictionaries store data as key-value pairs.\n",
    "\n",
    "we retrieve data using the unique key, not a position.\n"
   ]
  },
  {
   "cell_type": "code",
   "execution_count": 45,
   "id": "ac27142a-0b62-4658-ad33-825957df8b99",
   "metadata": {},
   "outputs": [
    {
     "name": "stdout",
     "output_type": "stream",
     "text": [
      "Ayan\n"
     ]
    }
   ],
   "source": [
    "student = {\"name\": \"Ayan\", \"age\": 20}\n",
    "print(student[\"name\"])  # Output: Ayan"
   ]
  },
  {
   "cell_type": "markdown",
   "id": "a59c772b-ab84-4cea-9cf3-3d3af34b8f99",
   "metadata": {},
   "source": [
    "# **Practical Questions:**\n",
    "                                     "
   ]
  },
  {
   "cell_type": "code",
   "execution_count": 2,
   "id": "9e0b0216-6d70-43af-8924-640329bb443b",
   "metadata": {},
   "outputs": [
    {
     "name": "stdout",
     "output_type": "stream",
     "text": [
      "Sorbasish Shaw\n"
     ]
    }
   ],
   "source": [
    "# 1. Write a code to create a string with your name and print it?\n",
    "\n",
    "Name = \"Sorbasish Shaw\"\n",
    "print(Name)"
   ]
  },
  {
   "cell_type": "code",
   "execution_count": 5,
   "id": "927d5f5c-00b3-4b52-8786-52915af54aac",
   "metadata": {},
   "outputs": [
    {
     "name": "stdout",
     "output_type": "stream",
     "text": [
      "11\n"
     ]
    }
   ],
   "source": [
    "# 2. Write a code to find the length of the string \"Hello World\"?\n",
    "\n",
    "HW = \"Hello World\"\n",
    "print(len(HW))"
   ]
  },
  {
   "cell_type": "code",
   "execution_count": 7,
   "id": "3b408905-7924-44b6-a4fc-21b58c6355f7",
   "metadata": {},
   "outputs": [
    {
     "data": {
      "text/plain": [
       "'Pyt'"
      ]
     },
     "execution_count": 7,
     "metadata": {},
     "output_type": "execute_result"
    }
   ],
   "source": [
    "# 3. Write a code to slice the first 3 characters from the string \"Python Programming\"?\n",
    "\n",
    "program = \"Python Programing\"\n",
    "program[0:3]"
   ]
  },
  {
   "cell_type": "code",
   "execution_count": 15,
   "id": "5a38ff61-4d64-4d06-bcaa-d206f6e4be0e",
   "metadata": {},
   "outputs": [
    {
     "name": "stdout",
     "output_type": "stream",
     "text": [
      "hello\n"
     ]
    },
    {
     "data": {
      "text/plain": [
       "'HELLO'"
      ]
     },
     "execution_count": 15,
     "metadata": {},
     "output_type": "execute_result"
    }
   ],
   "source": [
    "# 4. Write a code to convert the string \"hello\" to uppercase?\n",
    "\n",
    "H = \"hello\"\n",
    "print(H)\n",
    "H.upper()"
   ]
  },
  {
   "cell_type": "code",
   "execution_count": 19,
   "id": "0141fafe-5ca3-4dc9-9ecb-e504a6c00b36",
   "metadata": {},
   "outputs": [
    {
     "name": "stdout",
     "output_type": "stream",
     "text": [
      "I like orange\n"
     ]
    }
   ],
   "source": [
    "# 5. Write a code to replace the word \"apple\" with \"orange\" in the string \"I like apple\"?\n",
    "\n",
    "like = \"I like apple\"\n",
    "liking=like.replace(\"apple\",\"orange\")\n",
    "print(liking)"
   ]
  },
  {
   "cell_type": "code",
   "execution_count": 21,
   "id": "79d4368a-52e3-464e-a5f7-e88ee8207b65",
   "metadata": {},
   "outputs": [
    {
     "name": "stdout",
     "output_type": "stream",
     "text": [
      "[1, 2, 3, 4, 5]\n"
     ]
    },
    {
     "data": {
      "text/plain": [
       "[1, 2, 3, 4, 5]"
      ]
     },
     "execution_count": 21,
     "metadata": {},
     "output_type": "execute_result"
    }
   ],
   "source": [
    "# 6. Write a code to create a list with numbers 1 to 5 and print it?\n",
    "\n",
    "numbers = [1,2,3,4,5]\n",
    "print(numbers)\n",
    "numbers"
   ]
  },
  {
   "cell_type": "code",
   "execution_count": 22,
   "id": "1b9791a8-e3e9-4663-8aea-33f51148a570",
   "metadata": {},
   "outputs": [
    {
     "name": "stdout",
     "output_type": "stream",
     "text": [
      "[1, 2, 3, 4, 10]\n"
     ]
    }
   ],
   "source": [
    "# 7. Write a code to append the number 10 to the list [1, 2, 3, 4]?\n",
    "\n",
    "given_list = [1,2,3,4]\n",
    "given_list.append(10)\n",
    "print(given_list)"
   ]
  },
  {
   "cell_type": "code",
   "execution_count": 23,
   "id": "4efaf2d4-668c-4fe2-8996-37be0a922f88",
   "metadata": {},
   "outputs": [
    {
     "name": "stdout",
     "output_type": "stream",
     "text": [
      "[1, 2, 4, 5]\n"
     ]
    }
   ],
   "source": [
    "# 8. Write a code to remove the number 3 from the list [1, 2, 3, 4, 5]?\n",
    "\n",
    "given_list1 = [1, 2, 3, 4, 5]\n",
    "given_list1.remove(3)\n",
    "print(given_list1)"
   ]
  },
  {
   "cell_type": "code",
   "execution_count": 28,
   "id": "04c6198f-2610-43ea-8c72-1bb10b1e9372",
   "metadata": {},
   "outputs": [
    {
     "data": {
      "text/plain": [
       "'b'"
      ]
     },
     "execution_count": 28,
     "metadata": {},
     "output_type": "execute_result"
    }
   ],
   "source": [
    "# 9. Write a code to access the second element in the list ['a', 'b', 'c', 'd']?\n",
    "\n",
    "given_char_list = ['a', 'b', 'c', 'd']\n",
    "given_char_list[1]"
   ]
  },
  {
   "cell_type": "code",
   "execution_count": 34,
   "id": "8e44a2e6-97eb-42f3-b719-5219b7e73d7f",
   "metadata": {},
   "outputs": [
    {
     "name": "stdout",
     "output_type": "stream",
     "text": [
      "[50, 40, 30, 20, 10]\n",
      "\n",
      "[50, 40, 30, 20, 10]\n",
      "[10, 20, 30, 40, 50]\n"
     ]
    }
   ],
   "source": [
    "# 10. Write a code to reverse the list [10, 20, 30, 40, 50].\n",
    "\n",
    "given_num_list = [10, 20, 30, 40, 50]\n",
    "given_num_list.sort(reverse=True)\n",
    "print(given_num_list)\n",
    "\n",
    "# or another way\n",
    "\n",
    "given_num_list1 = [10, 20, 30, 40, 50]\n",
    "sorted_list = sorted(given_num_list1, reverse=True)\n",
    "print(f\"\\n{sorted_list}\")        \n",
    "print(given_num_list1) # Here the original list kept intact."
   ]
  },
  {
   "cell_type": "code",
   "execution_count": 35,
   "id": "9cbd8ec3-5b29-48ea-ab3e-0d66372b57ef",
   "metadata": {},
   "outputs": [
    {
     "name": "stdout",
     "output_type": "stream",
     "text": [
      "(100, 200, 300)\n"
     ]
    }
   ],
   "source": [
    "# 11. Write a code to create a tuple with the elements 100, 200, 300 and print it.\n",
    "\n",
    "tup_num = (100, 200, 300)\n",
    "print(tup_num)"
   ]
  },
  {
   "cell_type": "code",
   "execution_count": 36,
   "id": "801191b1-bf14-4036-ad5c-5fdf5facade8",
   "metadata": {},
   "outputs": [
    {
     "data": {
      "text/plain": [
       "('green', 'blue', 'yellow')"
      ]
     },
     "execution_count": 36,
     "metadata": {},
     "output_type": "execute_result"
    }
   ],
   "source": [
    "# 12. Write a code to access the second-to-last element of the tuple ('red', 'green', 'blue', 'yellow').\n",
    "\n",
    "tup_colours = ('red', 'green', 'blue', 'yellow')\n",
    "tup_colours[1:]"
   ]
  },
  {
   "cell_type": "code",
   "execution_count": 46,
   "id": "c818ec0d-bd71-484f-99ba-0a20ccf3b626",
   "metadata": {},
   "outputs": [
    {
     "name": "stdout",
     "output_type": "stream",
     "text": [
      "5\n",
      "\n",
      "5\n"
     ]
    }
   ],
   "source": [
    "# 13. Write a code to find the minimum number in the tuple (10, 20, 5, 15).\n",
    "\n",
    "tup_nums = (10, 20, 5, 15)\n",
    "min(tup_nums)\n",
    "print(min(tup_nums))\n",
    "\n",
    "# or another way \n",
    "\n",
    "tup_nums = (10, 20, 5, 15)\n",
    "min_value = tup_nums[0]\n",
    "\n",
    "for num in tup_nums:\n",
    "    if min_value>num:\n",
    "        min_value=num\n",
    "        print(f\"\\n{min_value}\")"
   ]
  },
  {
   "cell_type": "code",
   "execution_count": 48,
   "id": "0fa9c6c7-f31c-43fc-89e4-4aabef287730",
   "metadata": {},
   "outputs": [
    {
     "data": {
      "text/plain": [
       "1"
      ]
     },
     "execution_count": 48,
     "metadata": {},
     "output_type": "execute_result"
    }
   ],
   "source": [
    "# 14. Write a code to find the index of the element \"cat\" in the tuple ('dog', 'cat', 'rabbit').\n",
    "\n",
    "tup_animals = ('dog', 'cat', 'rabbit')\n",
    "tup_animals.index(\"cat\")"
   ]
  },
  {
   "cell_type": "code",
   "execution_count": 55,
   "id": "593cd583-6eba-4e75-9184-a75231e2ed41",
   "metadata": {},
   "outputs": [
    {
     "name": "stdout",
     "output_type": "stream",
     "text": [
      "Kiwi is not present\n"
     ]
    },
    {
     "data": {
      "text/plain": [
       "False"
      ]
     },
     "execution_count": 55,
     "metadata": {},
     "output_type": "execute_result"
    }
   ],
   "source": [
    "# 15. Write a code to create a tuple containing three different fruits and check if \"kiwi\" is in it.\n",
    "\n",
    "fruits =  (\"banana\",\"apple\",\"orange\")\n",
    "\n",
    "if \"kiwi\" in fruits:\n",
    "    print(f\"\\nKiwi is present\")\n",
    "\n",
    "else:\n",
    "   print(\"Kiwi is not present\") \n",
    "\n",
    "# or we can also do this\n",
    "\n",
    "\"kiwi\" in fruits"
   ]
  },
  {
   "cell_type": "code",
   "execution_count": 56,
   "id": "5f6fe2e7-b06a-453e-aa2c-de690ec05326",
   "metadata": {},
   "outputs": [
    {
     "name": "stdout",
     "output_type": "stream",
     "text": [
      "{'c', 'a', 'b'}\n"
     ]
    }
   ],
   "source": [
    "# 16. Write a code to create a set with the elements 'a', 'b', 'c' and print it.\n",
    "\n",
    "elements = {\"a\",\"b\",\"c\"}\n",
    "print(elements)"
   ]
  },
  {
   "cell_type": "code",
   "execution_count": 58,
   "id": "dc261946-3812-441a-b71d-0bc0aa11ab20",
   "metadata": {},
   "outputs": [
    {
     "data": {
      "text/plain": [
       "set()"
      ]
     },
     "execution_count": 58,
     "metadata": {},
     "output_type": "execute_result"
    }
   ],
   "source": [
    "# 17. Write a code to clear all elements from the set {1, 2, 3, 4, 5}.\n",
    "\n",
    "num_set = {1, 2, 3, 4, 5}\n",
    "num_set.clear()\n",
    "num_set"
   ]
  },
  {
   "cell_type": "code",
   "execution_count": 61,
   "id": "0ded5e76-d3e3-4c68-8766-c57b16bc76f6",
   "metadata": {},
   "outputs": [
    {
     "data": {
      "text/plain": [
       "{1, 2, 3}"
      ]
     },
     "execution_count": 61,
     "metadata": {},
     "output_type": "execute_result"
    }
   ],
   "source": [
    "# 18. Write a code to remove the element 4 from the set {1, 2, 3, 4}.\n",
    "\n",
    "nums_set = {1, 2, 3, 4}\n",
    "nums_set.remove(4)\n",
    "nums_set"
   ]
  },
  {
   "cell_type": "code",
   "execution_count": 62,
   "id": "5a13f273-0850-440a-9468-f1f525ba80a7",
   "metadata": {},
   "outputs": [
    {
     "data": {
      "text/plain": [
       "{1, 2, 3, 4, 5}"
      ]
     },
     "execution_count": 62,
     "metadata": {},
     "output_type": "execute_result"
    }
   ],
   "source": [
    "# 19. Write a code to find the union of two sets {1, 2, 3} and {3, 4, 5}.\n",
    "\n",
    "set1 = {1, 2, 3}\n",
    "set2 = {3, 4, 5}\n",
    "\n",
    "set1 | set2 "
   ]
  },
  {
   "cell_type": "code",
   "execution_count": 64,
   "id": "428ad6c2-dd12-4703-be64-25b2ca39e723",
   "metadata": {},
   "outputs": [
    {
     "data": {
      "text/plain": [
       "{2, 3}"
      ]
     },
     "execution_count": 64,
     "metadata": {},
     "output_type": "execute_result"
    }
   ],
   "source": [
    "# 20. Write a code to find the intersection of two sets {1, 2, 3} and {2, 3, 4}.\n",
    "\n",
    "set3 = {1, 2, 3}\n",
    "set4 = {2, 3, 4}\n",
    "\n",
    "set3 & set4\n"
   ]
  },
  {
   "cell_type": "code",
   "execution_count": 66,
   "id": "8da127dd-e71e-4dea-b7e7-e8963c431955",
   "metadata": {},
   "outputs": [
    {
     "data": {
      "text/plain": [
       "dict_keys(['name', 'Age', 'City'])"
      ]
     },
     "execution_count": 66,
     "metadata": {},
     "output_type": "execute_result"
    }
   ],
   "source": [
    "# 21. Write a code to create a dictionary with the keys \"name\", \"age\", and \"city\", and print it.\n",
    "\n",
    "details = {\"name\":\"Sorbasish\",\"Age\":29,\"City\":\"Kolkata\"}\n",
    "details\n",
    "details.keys()"
   ]
  },
  {
   "cell_type": "code",
   "execution_count": 70,
   "id": "4e43d4a1-038a-48a3-b2a2-813a0251ddc7",
   "metadata": {},
   "outputs": [
    {
     "data": {
      "text/plain": [
       "{'name': 'John', 'age': 25, 'country': 'USA'}"
      ]
     },
     "execution_count": 70,
     "metadata": {},
     "output_type": "execute_result"
    }
   ],
   "source": [
    "# 22. Write a code to add a new key-value pair \"country\": \"USA\" to the dictionary {'name': 'John', 'age': 25}.\n",
    "\n",
    "given_details = {'name': 'John', 'age': 25}\n",
    "given_details[\"country\"]= \"USA\"\n",
    "given_details"
   ]
  },
  {
   "cell_type": "code",
   "execution_count": 71,
   "id": "67a58750-673a-49fb-9303-0fb450d3d314",
   "metadata": {},
   "outputs": [
    {
     "data": {
      "text/plain": [
       "'Alice'"
      ]
     },
     "execution_count": 71,
     "metadata": {},
     "output_type": "execute_result"
    }
   ],
   "source": [
    "# 23. Write a code to access the value associated with the key \"name\" in the dictionary {'name': 'Alice', 'age': 30}.\n",
    "\n",
    "given_details1 = {'name': 'Alice', 'age': 30}\n",
    "given_details1[\"name\"]"
   ]
  },
  {
   "cell_type": "code",
   "execution_count": 72,
   "id": "d1228052-8e46-4bae-a16b-419757ac33f8",
   "metadata": {},
   "outputs": [
    {
     "data": {
      "text/plain": [
       "{'name': 'Bob', 'city': 'New York'}"
      ]
     },
     "execution_count": 72,
     "metadata": {},
     "output_type": "execute_result"
    }
   ],
   "source": [
    "# 24. Write a code to remove the key \"age\" from the dictionary {'name': 'Bob', 'age': 22, 'city': 'New York'}.\n",
    "\n",
    "given_details2 = {'name': 'Bob', 'age': 22, 'city': 'New York'}\n",
    "given_details2.pop(\"age\")\n",
    "given_details2"
   ]
  },
  {
   "cell_type": "code",
   "execution_count": 73,
   "id": "2932dd72-9dd5-4f00-8bc6-ee1eedcf81fa",
   "metadata": {},
   "outputs": [
    {
     "name": "stdout",
     "output_type": "stream",
     "text": [
      "Key 'city' exists in the dictionary.\n"
     ]
    }
   ],
   "source": [
    "# 25. Write a code to check if the key \"city\" exists in the dictionary {'name': 'Alice', 'city': 'Paris'}.\n",
    "\n",
    "person = {'name': 'Alice', 'city': 'Paris'}\n",
    "\n",
    "if 'city' in person:\n",
    "    print(\"Key 'city' exists in the dictionary.\")\n",
    "else:\n",
    "    print(\"Key 'city' does not exist.\")\n"
   ]
  },
  {
   "cell_type": "code",
   "execution_count": 75,
   "id": "3370cdd5-7224-4560-b476-3f5be0592100",
   "metadata": {},
   "outputs": [
    {
     "name": "stdout",
     "output_type": "stream",
     "text": [
      "\n",
      "List:, [1, 2, 3]\n",
      "\n",
      "Tuple:, ('a', 'b', 'c')\n",
      "\n",
      "Dictionary:, {'name': 'Alice', 'age': 25}\n"
     ]
    }
   ],
   "source": [
    "# 26. Write a code to create a list, a tuple, and a dictionary, and print them all.\n",
    "\n",
    "# Create a list\n",
    "my_list = [1, 2, 3]\n",
    "\n",
    "# Create a tuple\n",
    "my_tuple = ('a', 'b', 'c')\n",
    "\n",
    "# Create a dictionary\n",
    "my_dict = {'name': 'Alice', 'age': 25}\n",
    "\n",
    "# Print them all\n",
    "print(f\"\\nList:, {my_list}\")\n",
    "print(f\"\\nTuple:, {my_tuple}\")\n",
    "print(f\"\\nDictionary:, {my_dict}\")\n"
   ]
  },
  {
   "cell_type": "code",
   "execution_count": 81,
   "id": "30aed610-baf1-448c-ab96-7b961dfa03f1",
   "metadata": {},
   "outputs": [],
   "source": [
    "# Write a code to create a list of 5 random numbers between 1 and 100, sort it in ascending order, and print the \n",
    "# result.(replaced)   "
   ]
  },
  {
   "cell_type": "code",
   "execution_count": 85,
   "id": "6ba724d1-8031-44ee-8113-7dda681890a4",
   "metadata": {},
   "outputs": [
    {
     "name": "stdout",
     "output_type": "stream",
     "text": [
      "Please enter 5 unique numbers from the range from 1 to 100\n"
     ]
    },
    {
     "name": "stdin",
     "output_type": "stream",
     "text": [
      " Please enter the number 1:  4\n",
      " Please enter the number 2:  5\n",
      " Please enter the number 3:  6\n",
      " Please enter the number 4:  1\n",
      " Please enter the number 5:  2\n"
     ]
    },
    {
     "name": "stdout",
     "output_type": "stream",
     "text": [
      "here is the list with all the unique numbers :  [1, 2, 4, 5, 6]\n"
     ]
    }
   ],
   "source": [
    "random_number = []\n",
    "\n",
    "print(\"Please enter 5 unique numbers from the range from 1 to 100\")\n",
    "\n",
    "while len(random_number)<5:\n",
    "    nums = int(input(f\" Please enter the number {len(random_number)+1}: \"))\n",
    "\n",
    "    if nums<1 or nums>100:\n",
    "        print(\"Number must be from 1 to 100. Try again\")\n",
    "    elif nums in random_number:\n",
    "        print(\"This number has alredy been takan. Please try another number\")\n",
    "    else:\n",
    "        random_number.append(nums)\n",
    "\n",
    "random_number.sort()\n",
    "print(\"here is the list with all the unique numbers : \", random_number)"
   ]
  },
  {
   "cell_type": "code",
   "execution_count": 86,
   "id": "4129840f-98df-4049-b582-a4edae1760aa",
   "metadata": {},
   "outputs": [
    {
     "name": "stdout",
     "output_type": "stream",
     "text": [
      "Devices\n"
     ]
    }
   ],
   "source": [
    "# 28. Write a code to create a list with strings and print the element at the third index.\n",
    "\n",
    "my_list = [ \"Books\", \"Maps\", \"Devices\",\"Guns\",\"Foods\"]\n",
    "print(my_list[2])"
   ]
  },
  {
   "cell_type": "code",
   "execution_count": 87,
   "id": "282ba6de-e86c-450e-8229-fb624f3051c6",
   "metadata": {},
   "outputs": [
    {
     "name": "stdout",
     "output_type": "stream",
     "text": [
      "{'a': 1, 'b': 2, 'c': 3, 'd': 4}\n"
     ]
    }
   ],
   "source": [
    "#29. Write a code to combine two dictionaries into one and print the result.\n",
    "\n",
    "dict1 = {\"a\": 1, \"b\": 2}\n",
    "dict2 = {\"c\": 3, \"d\": 4}\n",
    "\n",
    "combined = dict1 | dict2 # using pipe operator\n",
    "print(combined)\n"
   ]
  },
  {
   "cell_type": "code",
   "execution_count": 89,
   "id": "84ecb37d-b92e-415e-a3b8-dbe7790f049c",
   "metadata": {},
   "outputs": [
    {
     "name": "stdout",
     "output_type": "stream",
     "text": [
      "<class 'set'>\n"
     ]
    },
    {
     "data": {
      "text/plain": [
       "{'Books', 'Devices', 'Foods', 'Guns', 'Maps'}"
      ]
     },
     "execution_count": 89,
     "metadata": {},
     "output_type": "execute_result"
    }
   ],
   "source": [
    "# 30. Write a code to convert a list of strings into a set.\n",
    "\n",
    "new_set = set(my_list)\n",
    "print(type(new_set))\n",
    "new_set"
   ]
  },
  {
   "cell_type": "code",
   "execution_count": null,
   "id": "566f6101-d7e8-4929-8545-c6e162ec3c50",
   "metadata": {},
   "outputs": [],
   "source": []
  }
 ],
 "metadata": {
  "kernelspec": {
   "display_name": "Python 3 (ipykernel)",
   "language": "python",
   "name": "python3"
  },
  "language_info": {
   "codemirror_mode": {
    "name": "ipython",
    "version": 3
   },
   "file_extension": ".py",
   "mimetype": "text/x-python",
   "name": "python",
   "nbconvert_exporter": "python",
   "pygments_lexer": "ipython3",
   "version": "3.13.3"
  }
 },
 "nbformat": 4,
 "nbformat_minor": 5
}
